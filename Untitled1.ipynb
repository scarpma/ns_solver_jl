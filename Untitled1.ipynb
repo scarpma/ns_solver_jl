{
 "cells": [
  {
   "cell_type": "code",
   "execution_count": 1,
   "id": "195a533e-aafc-4ba9-89e1-7c5d143b11d2",
   "metadata": {},
   "outputs": [],
   "source": [
    "#const T = Float64\n",
    "\n",
    "struct Field2D\n",
    "    arr\n",
    "    h::Float64\n",
    "    n1::Int64\n",
    "    n2::Int64\n",
    "    function Field2D(T, h, (n1,n2))\n",
    "        arr = Array{T}(undef, (n1,n2))\n",
    "        new(arr, h, n1, n2)\n",
    "    end\n",
    "end"
   ]
  },
  {
   "cell_type": "code",
   "execution_count": 2,
   "id": "f0e2244d-da07-4251-98e5-dcccbdde9eee",
   "metadata": {},
   "outputs": [
    {
     "data": {
      "text/plain": [
       "Field2D"
      ]
     },
     "execution_count": 2,
     "metadata": {},
     "output_type": "execute_result"
    }
   ],
   "source": [
    "a = Field2D(Float64, 1.0, (300,300));\n",
    "typeof(a)"
   ]
  },
  {
   "cell_type": "code",
   "execution_count": 1,
   "id": "7aad18d9-6c27-4430-8d5b-e158c50a8c38",
   "metadata": {},
   "outputs": [],
   "source": [
    "#const T = Float64\n",
    "\n",
    "struct Field2D_v2{T}\n",
    "    h::Float64\n",
    "    arr::Array{T,2}\n",
    "    #function Field2D(T, h, (n1,n2))\n",
    "    #    arr = Array{T}(undef, (n1,n2))\n",
    "    #    new(arr, h, n1, n2)\n",
    "    #end\n",
    "end"
   ]
  },
  {
   "cell_type": "code",
   "execution_count": 3,
   "id": "0d56e8f2-2a9d-4271-927d-992e710b7420",
   "metadata": {},
   "outputs": [
    {
     "data": {
      "text/plain": [
       "Field2D_v2{Float64}"
      ]
     },
     "execution_count": 3,
     "metadata": {},
     "output_type": "execute_result"
    }
   ],
   "source": [
    "a = Field2D_v2{Float64}"
   ]
  },
  {
   "cell_type": "code",
   "execution_count": 6,
   "id": "9ffd14d4-a068-40c3-bdff-0484997c8075",
   "metadata": {},
   "outputs": [
    {
     "ename": "LoadError",
     "evalue": "type DataType has no field h",
     "output_type": "error",
     "traceback": [
      "type DataType has no field h",
      "",
      "Stacktrace:",
      " [1] getproperty(x::Type, f::Symbol)",
      "   @ Base ./Base.jl:33",
      " [2] top-level scope",
      "   @ In[6]:1",
      " [3] eval",
      "   @ ./boot.jl:368 [inlined]",
      " [4] include_string(mapexpr::typeof(REPL.softscope), mod::Module, code::String, filename::String)",
      "   @ Base ./loading.jl:1428"
     ]
    }
   ],
   "source": [
    "a.h"
   ]
  },
  {
   "cell_type": "code",
   "execution_count": 10,
   "id": "c4ec3133-ae49-4b13-8028-ba8302399cdd",
   "metadata": {},
   "outputs": [
    {
     "data": {
      "text/plain": [
       "Any[]"
      ]
     },
     "execution_count": 10,
     "metadata": {},
     "output_type": "execute_result"
    }
   ],
   "source": [
    "a = []"
   ]
  },
  {
   "cell_type": "code",
   "execution_count": 15,
   "id": "f8521427-4f7e-4c0a-9387-eca60c773bba",
   "metadata": {},
   "outputs": [
    {
     "ename": "LoadError",
     "evalue": "type Array has no field push_back",
     "output_type": "error",
     "traceback": [
      "type Array has no field push_back",
      "",
      "Stacktrace:",
      " [1] getproperty(x::Vector{Any}, f::Symbol)",
      "   @ Base ./Base.jl:38",
      " [2] top-level scope",
      "   @ In[15]:1",
      " [3] eval",
      "   @ ./boot.jl:368 [inlined]",
      " [4] include_string(mapexpr::typeof(REPL.softscope), mod::Module, code::String, filename::String)",
      "   @ Base ./loading.jl:1428"
     ]
    }
   ],
   "source": [
    "a.push_back(0)"
   ]
  },
  {
   "cell_type": "code",
   "execution_count": 23,
   "id": "76df72b1-e605-4e33-9181-8a9365a31133",
   "metadata": {},
   "outputs": [
    {
     "data": {
      "text/plain": [
       "12×3 Matrix{Int64}:\n",
       "   1    1    1\n",
       "   4    4    4\n",
       "   9    9    9\n",
       "  16   16   16\n",
       "  25   25   25\n",
       "  36   36   36\n",
       "  49   49   49\n",
       "  64   64   64\n",
       "  81   81   81\n",
       " 100  100  100\n",
       " 121  121  121\n",
       " 144  144  144"
      ]
     },
     "execution_count": 23,
     "metadata": {},
     "output_type": "execute_result"
    }
   ],
   "source": [
    "[i^2 for i in 1:12, j in 1:3]"
   ]
  },
  {
   "cell_type": "code",
   "execution_count": 26,
   "id": "feb6ba62-beeb-46d5-a121-719010de7f6c",
   "metadata": {},
   "outputs": [
    {
     "data": {
      "text/plain": [
       "10×10 Matrix{Float64}:\n",
       "  6.0   6.0   6.0   6.0   6.0   6.0   6.0   6.0   6.0   6.0\n",
       " 12.0  12.0  12.0  12.0  12.0  12.0  12.0  12.0  12.0  12.0\n",
       " 18.0  18.0  18.0  18.0  18.0  18.0  18.0  18.0  18.0  18.0\n",
       " 24.0  24.0  24.0  24.0  24.0  24.0  24.0  24.0  24.0  24.0\n",
       " 30.0  30.0  30.0  30.0  30.0  30.0  30.0  30.0  30.0  30.0\n",
       " 36.0  36.0  36.0  36.0  36.0  36.0  36.0  36.0  36.0  36.0\n",
       " 42.0  42.0  42.0  42.0  42.0  42.0  42.0  42.0  42.0  42.0\n",
       " 48.0  48.0  48.0  48.0  48.0  48.0  48.0  48.0  48.0  48.0\n",
       " 54.0  54.0  54.0  54.0  54.0  54.0  54.0  54.0  54.0  54.0\n",
       " 60.0  60.0  60.0  60.0  60.0  60.0  60.0  60.0  60.0  60.0"
      ]
     },
     "execution_count": 26,
     "metadata": {},
     "output_type": "execute_result"
    }
   ],
   "source": [
    "h = 1.0\n",
    "[6*i*h for i in 1:10, j in 1:10]"
   ]
  },
  {
   "cell_type": "code",
   "execution_count": null,
   "id": "1557a70c-1481-45d4-821a-87eb18e7b865",
   "metadata": {},
   "outputs": [],
   "source": []
  },
  {
   "cell_type": "code",
   "execution_count": null,
   "id": "0acaebb2-6705-452f-bbed-099bc8bb5245",
   "metadata": {},
   "outputs": [],
   "source": []
  },
  {
   "cell_type": "code",
   "execution_count": null,
   "id": "f14e8190-e5b4-4d3c-afa1-6ed8f37c8116",
   "metadata": {},
   "outputs": [],
   "source": []
  },
  {
   "cell_type": "code",
   "execution_count": 56,
   "id": "2f2c0dfa-8a72-4bec-939d-938ecb2701df",
   "metadata": {},
   "outputs": [
    {
     "data": {
      "text/plain": [
       "main (generic function with 1 method)"
      ]
     },
     "execution_count": 56,
     "metadata": {},
     "output_type": "execute_result"
    }
   ],
   "source": [
    "using WriteVTK\n",
    "using Printf\n",
    "\n",
    "function writeSurface(filename, cooOfVert, vertOfTria, fields...)\n",
    "    if vertOfTria == nothing\n",
    "        cells = [MeshCell(VTKCellTypes.VTK_VERTEX, (i, )) for i = 1:size(cooOfVert,2)]\n",
    "    else\n",
    "        cells = [MeshCell(VTKCellTypes.VTK_TRIANGLE, \n",
    "                    (vertOfTria[1, i], vertOfTria[2, i], vertOfTria[3, i]))\n",
    "                    for i = 1:size(vertOfTria,2)\n",
    "                ]\n",
    "    end\n",
    "        mesh = vtk_grid(filename, cooOfVert[1,:], cooOfVert[2,:], cooOfVert[3,:], cells)\n",
    "    if size(fields,1) > 0\n",
    "        for i in eachindex(fields)\n",
    "            mesh[@sprintf(\"f%2d\",i)] = fields[i]\n",
    "        end\n",
    "    end\n",
    "    vtk_save(mesh)\n",
    "    return\n",
    "end\n",
    "\n",
    "function read_gts_plus(filename, T)\n",
    "    coords, vertOfTria, vertOfEdge, edgeOfTria = read_gts(filename, T)\n",
    "    nNodes = size(coords, 2)\n",
    "    nEdges = size(vertOfEdge, 2)\n",
    "    nTria = size(vertOfTria, 2)\n",
    "    \n",
    "    nEdgeVert = zeros(Int64, (nNodes))\n",
    "    midPointEdge = zeros(T, (3, nEdges))\n",
    "    midPointEdge = zeros(T, (3, nEdges))\n",
    "    dirEdge = zeros(T, (3, nEdges))\n",
    "    lenEdge = zeros(T, nEdges)\n",
    "    for i=1:nEdges\n",
    "        v1, v2 = vertOfEdge[:,i]\n",
    "        nEdgeVert[v1] += 1\n",
    "        nEdgeVert[v2] += 1\n",
    "        midPointEdge[:,i] .= 0.5.*(coords[:,v1] .+ coords[:,v2])\n",
    "        dirEdge[:,i] .= (coords[:,v1] .- coords[:,v2])\n",
    "        lenEdge[i] = sqrt(sum(dirEdge[:,i].^2))\n",
    "        dirEdge[:,i] .= dirEdge[:,i] ./ lenEdge[i]\n",
    "    end\n",
    "    \n",
    "    maxNEdgeVert = maximum(nEdgeVert)\n",
    "    vertOfVert = zeros(Int64, (maxNEdgeVert, nNodes))\n",
    "    edgeOfVert = zeros(Int64, (maxNEdgeVert, nNodes))\n",
    "    nEdgeVert .= 0\n",
    "    for i=1:nEdges\n",
    "        v1, v2 = vertOfEdge[:,i]\n",
    "        nEdgeVert[v1] += 1\n",
    "        nEdgeVert[v2] += 1\n",
    "        vertOfVert[nEdgeVert[v1], v1] = v2\n",
    "        vertOfVert[nEdgeVert[v2], v2] = v1\n",
    "        edgeOfVert[nEdgeVert[v1], v1] = i \n",
    "        edgeOfVert[nEdgeVert[v2], v2] = i\n",
    "    end\n",
    "    return coords, vertOfTria, vertOfEdge, vertOfVert, edgeOfTria, nEdgeVert, midPointEdge, lenEdge, dirEdge\n",
    "end\n",
    "\n",
    "function read_gts(filename, T)\n",
    "    \n",
    "    lines = readlines(filename)\n",
    "    nNodes, nEdges, nTria = parse.(Int64, split(lines[1], \" \"))\n",
    "    coords = reshape(parse.(T, split(join(lines[2:nNodes+1], \" \"), \" \")), (3,nNodes))\n",
    "    vertOfEdge = reshape(parse.(Int64, split(join(lines[nNodes+2:nNodes+2+nEdges-1], \" \"), \" \")), (2,nEdges))\n",
    "    edgeOfTria = reshape(parse.(Int64, split(join(lines[nNodes+2+nEdges:end], \" \"), \" \")), (3,nTria))\n",
    "\n",
    "    vertOfTria = zeros(Int64, (3,nTria))\n",
    "    for i=1:nTria\n",
    "        e1, e2, e3 = edgeOfTria[:,i] # e3 is not used\n",
    "        if vertOfEdge[2,e1] == vertOfEdge[1,e2]      #-----#-----#-----#\n",
    "           v1 = vertOfEdge[1,e1] #                   1 e1  21 e2 2? e3 ?\n",
    "           v2 = vertOfEdge[2,e1] \n",
    "           v3 = vertOfEdge[2,e2]\n",
    "        elseif vertOfEdge[2,e1] == vertOfEdge[2,e2]  #-----#-----#-----#\n",
    "           v1 = vertOfEdge[1,e1] #                   1 e1  22 e2 1? e3 ? \n",
    "           v2 = vertOfEdge[2,e1] \n",
    "           v3 = vertOfEdge[1,e2]\n",
    "        elseif vertOfEdge[1,e1] == vertOfEdge[1,e2]  #-----#-----#-----#\n",
    "           v1 = vertOfEdge[2,e1] #                   2 e1  11 e2 2? e3 ?\n",
    "           v2 = vertOfEdge[1,e1] \n",
    "           v3 = vertOfEdge[2,e2]\n",
    "        else                                         #-----#-----#-----#\n",
    "           v1 = vertOfEdge[2,e1] #                   2 e1  12 e2 1? e3 ?\n",
    "           v2 = vertOfEdge[1,e1] \n",
    "           v3 = vertOfEdge[1,e2]\n",
    "        end\n",
    "        vertOfTria[:,i] .= v1, v2, v3\n",
    "    end\n",
    "    return coords, vertOfTria, vertOfEdge, edgeOfTria\n",
    "end\n",
    "\n",
    "function main()\n",
    "    coords, vertOfTria, vertOfEdge, vertOfVert,\n",
    "    edgeOfTria, nEdgeVert, midPointEdge, lenEdge,\n",
    "    dirEdge = read_gts_plus(\"./aorta1.gts\", Float32);\n",
    "    coords, vertOfTria, = read_gts(\"./aorta1.gts\", Float32);\n",
    "    writeSurface(\"prova\", coords, vertOfTria, nEdgeVert)\n",
    "    writeSurface(\"midPoints\", midPointEdge, nothing, dirEdge, lenEdge)\n",
    "end"
   ]
  },
  {
   "cell_type": "code",
   "execution_count": 55,
   "id": "71f56e96-fee3-466b-b180-49d8403d39e2",
   "metadata": {},
   "outputs": [],
   "source": [
    "main()"
   ]
  },
  {
   "cell_type": "code",
   "execution_count": 92,
   "id": "fab01e20-0604-4c2c-89bf-faab34ad00b1",
   "metadata": {},
   "outputs": [
    {
     "data": {
      "text/plain": [
       "3×24687 Matrix{Float64}:\n",
       "  0.332262   0.360109   0.367858  …   0.343259   0.336055   0.364052\n",
       " -0.585026  -0.634077  -0.634526     -0.529008  -0.575606  -0.626546\n",
       "  5.37999    5.33571    5.42915       5.49579    5.44238    5.50504"
      ]
     },
     "execution_count": 92,
     "metadata": {},
     "output_type": "execute_result"
    }
   ],
   "source": [
    "function readSTLdim(filename::String)::Int64\n",
    "    lines = readlines(filename)\n",
    "    ntria::Int64 = 0\n",
    "    i::Int64 = 1\n",
    "    while true\n",
    "        if occursin(\"endsolid\", lines[i])\n",
    "            break\n",
    "        elseif occursin(\"outer \", lines[i])\n",
    "            ntria = ntria + 1\n",
    "            i += 4\n",
    "        else\n",
    "            i += 1\n",
    "        end\n",
    "    end\n",
    "    return ntria\n",
    "end\n",
    "\n",
    "function readSTL(filename::String)::Array{Float64, 2}\n",
    "    ntria = readSTLdim(filename)\n",
    "    vertOfTria = Array{Float64, 2}(undef, (3,3*ntria))\n",
    "    lines = readlines(filename)\n",
    "    i::Int64 = 1\n",
    "    j::Int64 = 1\n",
    "    while true\n",
    "        if occursin(\"endsolid\", lines[i])\n",
    "            break\n",
    "        end\n",
    "        if occursin(\"outer \", lines[i])\n",
    "            line = strip(lines[i])\n",
    "            vertOfTria[:,j  ] = parse.(Float64, split(strip(lines[i+1]), \" \")[2:end])\n",
    "            vertOfTria[:,j+1] = parse.(Float64, split(strip(lines[i+2]), \" \")[2:end])\n",
    "            vertOfTria[:,j+2] = parse.(Float64, split(strip(lines[i+3]), \" \")[2:end])\n",
    "            j = j + 3\n",
    "            i += 4\n",
    "            else\n",
    "                i += 1\n",
    "            end\n",
    "        end\n",
    "    return vertOfTria\n",
    "end\n",
    "\n",
    "function stlConnectivity(vertOfTria::Array{Float64, 2})\n",
    "    \"\"\"\n",
    "    this function iterates over vertices found inside an STL\n",
    "    file and keeps only new vertices inside the array <nodes>.\n",
    "    Each new vertex not closer than <tol> to any other vertices\n",
    "    in <nodes> is added to <nodes>.\n",
    "    \n",
    "    <whois> maps from unordered vertices to unordered vertices\n",
    "        all_vertices_index --> corresponding unique vertex inside all_vertices_index\n",
    "    <nodes> maps from ordered vertices to unordered vertices\n",
    "        unique vertex index from ordered vertex array --> all_vertices_index\n",
    "    <nodes_inv> maps from unordered vertices to ordered vertices\n",
    "        all_vertices_index --> corresponding unique vertex inside ordered vertex array\n",
    "    \n",
    "    \"\"\"    \n",
    "    tol = 1.0e-12 # m^2\n",
    "    ntria = div(size(vertOfTria, 2), 3)\n",
    "    maxNOfVert = 3*ntria # temp dim for new ordered vertices array\n",
    "    alreadyAssigned = zeros(Int64, (ntria*3))\n",
    "    alreadyAssigned[1] = 1\n",
    "    whois = Array{Int64, 1}(undef, (3*ntria))\n",
    "    nodes = Array{Int64, 1}(undef, (maxNOfVert))\n",
    "    nodes_inv = Array{Int64, 1}(undef, (3*ntria))\n",
    "    nodes[1] = 1\n",
    "    nodes_inv[1] = 1\n",
    "    whois[1] = 1\n",
    "    whois[1] = 1\n",
    "    nVertOrdered = 1 # current len of ordered vertices <nodes>\n",
    "    last_j::Int64 = 0\n",
    "    for i=1:3*ntria\n",
    "        if alreadyAssigned[i] == 0\n",
    "            dist_sum = 0.::Float64\n",
    "            isDouble = false\n",
    "            for j=1:nVertOrdered\n",
    "                dist2 = sum((vertOfTria[:,i] - vertOfTria[:,nodes[j]]).^2)\n",
    "                dist_sum += dist2\n",
    "                if dist2 < tol\n",
    "                    # vertex i is closer than tol to vertex nodes[j]\n",
    "                    # this is not a new vertex !\n",
    "                    whois[i] = nodes[j]\n",
    "                    alreadyAssigned[i] = 1\n",
    "                    nodes_inv[i] = j\n",
    "                    isDouble = true\n",
    "                    break\n",
    "                end\n",
    "            end\n",
    "            # vertex <i> is not closer than <tol> to any vertex inside <nodes>\n",
    "            # let's add vertex <i> to <nodes>\n",
    "            if isDouble == false\n",
    "                nVertOrdered += 1\n",
    "                nodes[nVertOrdered] = i\n",
    "                nodes_inv[i] = nVertOrdered\n",
    "                whois[i] = i\n",
    "                alreadyAssigned[i] = 1    \n",
    "            end\n",
    "        end\n",
    "    end\n",
    "    resize!(nodes, nVertOrdered)\n",
    "    return nodes, nodes_inv, whois\n",
    "end\n",
    "\n",
    "vertOfTria = readSTL(\"prova.stl\")"
   ]
  },
  {
   "cell_type": "code",
   "execution_count": 93,
   "id": "c5ceb5e4-9129-41b4-a39a-9c1b8f6c9768",
   "metadata": {},
   "outputs": [
    {
     "data": {
      "text/plain": [
       "([1, 2, 3, 6, 7, 12, 14, 16, 17, 18  …  24013, 24023, 24286, 24339, 24343, 24360, 24536, 24539, 24545, 24601], [1, 2, 3, 3, 2, 4, 5, 3, 4, 3  …  2, 1, 7, 19, 7, 1, 3, 14, 7, 6], [1, 2, 3, 3, 2, 6, 7, 3, 6, 3  …  2, 1, 14, 35, 14, 1, 3, 23, 14, 12])"
      ]
     },
     "execution_count": 93,
     "metadata": {},
     "output_type": "execute_result"
    }
   ],
   "source": [
    "nodes, nodes_inv, whois = stlConnectivity(vertOfTria)"
   ]
  },
  {
   "cell_type": "code",
   "execution_count": 97,
   "id": "2e6c365a-6db8-46d1-bc57-fe975dfcb852",
   "metadata": {},
   "outputs": [
    {
     "data": {
      "text/plain": [
       "4164"
      ]
     },
     "execution_count": 97,
     "metadata": {},
     "output_type": "execute_result"
    }
   ],
   "source": [
    "size(nodes,1)"
   ]
  },
  {
   "cell_type": "code",
   "execution_count": null,
   "id": "b12e57ed-e35f-4857-ad65-2cdcd482c00a",
   "metadata": {},
   "outputs": [],
   "source": []
  }
 ],
 "metadata": {
  "kernelspec": {
   "display_name": "Julia 1.8.2",
   "language": "julia",
   "name": "julia-1.8"
  },
  "language_info": {
   "file_extension": ".jl",
   "mimetype": "application/julia",
   "name": "julia",
   "version": "1.8.2"
  }
 },
 "nbformat": 4,
 "nbformat_minor": 5
}
