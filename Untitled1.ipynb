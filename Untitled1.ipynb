{
 "cells": [
  {
   "cell_type": "code",
   "execution_count": 1,
   "id": "195a533e-aafc-4ba9-89e1-7c5d143b11d2",
   "metadata": {},
   "outputs": [],
   "source": [
    "#const T = Float64\n",
    "\n",
    "struct Field2D\n",
    "    arr\n",
    "    h::Float64\n",
    "    n1::Int64\n",
    "    n2::Int64\n",
    "    function Field2D(T, h, (n1,n2))\n",
    "        arr = Array{T}(undef, (n1,n2))\n",
    "        new(arr, h, n1, n2)\n",
    "    end\n",
    "end"
   ]
  },
  {
   "cell_type": "code",
   "execution_count": 2,
   "id": "f0e2244d-da07-4251-98e5-dcccbdde9eee",
   "metadata": {},
   "outputs": [
    {
     "data": {
      "text/plain": [
       "Field2D"
      ]
     },
     "execution_count": 2,
     "metadata": {},
     "output_type": "execute_result"
    }
   ],
   "source": [
    "a = Field2D(Float64, 1.0, (300,300));\n",
    "typeof(a)"
   ]
  },
  {
   "cell_type": "code",
   "execution_count": 1,
   "id": "7aad18d9-6c27-4430-8d5b-e158c50a8c38",
   "metadata": {},
   "outputs": [],
   "source": [
    "#const T = Float64\n",
    "\n",
    "struct Field2D_v2{T}\n",
    "    h::Float64\n",
    "    arr::Array{T,2}\n",
    "    #function Field2D(T, h, (n1,n2))\n",
    "    #    arr = Array{T}(undef, (n1,n2))\n",
    "    #    new(arr, h, n1, n2)\n",
    "    #end\n",
    "end"
   ]
  },
  {
   "cell_type": "code",
   "execution_count": 3,
   "id": "0d56e8f2-2a9d-4271-927d-992e710b7420",
   "metadata": {},
   "outputs": [
    {
     "data": {
      "text/plain": [
       "Field2D_v2{Float64}"
      ]
     },
     "execution_count": 3,
     "metadata": {},
     "output_type": "execute_result"
    }
   ],
   "source": [
    "a = Field2D_v2{Float64}"
   ]
  },
  {
   "cell_type": "code",
   "execution_count": 6,
   "id": "9ffd14d4-a068-40c3-bdff-0484997c8075",
   "metadata": {},
   "outputs": [
    {
     "ename": "LoadError",
     "evalue": "type DataType has no field h",
     "output_type": "error",
     "traceback": [
      "type DataType has no field h",
      "",
      "Stacktrace:",
      " [1] getproperty(x::Type, f::Symbol)",
      "   @ Base ./Base.jl:33",
      " [2] top-level scope",
      "   @ In[6]:1",
      " [3] eval",
      "   @ ./boot.jl:368 [inlined]",
      " [4] include_string(mapexpr::typeof(REPL.softscope), mod::Module, code::String, filename::String)",
      "   @ Base ./loading.jl:1428"
     ]
    }
   ],
   "source": [
    "a.h"
   ]
  },
  {
   "cell_type": "code",
   "execution_count": 10,
   "id": "c4ec3133-ae49-4b13-8028-ba8302399cdd",
   "metadata": {},
   "outputs": [
    {
     "data": {
      "text/plain": [
       "Any[]"
      ]
     },
     "execution_count": 10,
     "metadata": {},
     "output_type": "execute_result"
    }
   ],
   "source": [
    "a = []"
   ]
  },
  {
   "cell_type": "code",
   "execution_count": 15,
   "id": "f8521427-4f7e-4c0a-9387-eca60c773bba",
   "metadata": {},
   "outputs": [
    {
     "ename": "LoadError",
     "evalue": "type Array has no field push_back",
     "output_type": "error",
     "traceback": [
      "type Array has no field push_back",
      "",
      "Stacktrace:",
      " [1] getproperty(x::Vector{Any}, f::Symbol)",
      "   @ Base ./Base.jl:38",
      " [2] top-level scope",
      "   @ In[15]:1",
      " [3] eval",
      "   @ ./boot.jl:368 [inlined]",
      " [4] include_string(mapexpr::typeof(REPL.softscope), mod::Module, code::String, filename::String)",
      "   @ Base ./loading.jl:1428"
     ]
    }
   ],
   "source": [
    "a.push_back(0)"
   ]
  },
  {
   "cell_type": "code",
   "execution_count": 23,
   "id": "76df72b1-e605-4e33-9181-8a9365a31133",
   "metadata": {},
   "outputs": [
    {
     "data": {
      "text/plain": [
       "12×3 Matrix{Int64}:\n",
       "   1    1    1\n",
       "   4    4    4\n",
       "   9    9    9\n",
       "  16   16   16\n",
       "  25   25   25\n",
       "  36   36   36\n",
       "  49   49   49\n",
       "  64   64   64\n",
       "  81   81   81\n",
       " 100  100  100\n",
       " 121  121  121\n",
       " 144  144  144"
      ]
     },
     "execution_count": 23,
     "metadata": {},
     "output_type": "execute_result"
    }
   ],
   "source": [
    "[i^2 for i in 1:12, j in 1:3]"
   ]
  },
  {
   "cell_type": "code",
   "execution_count": 26,
   "id": "feb6ba62-beeb-46d5-a121-719010de7f6c",
   "metadata": {},
   "outputs": [
    {
     "data": {
      "text/plain": [
       "10×10 Matrix{Float64}:\n",
       "  6.0   6.0   6.0   6.0   6.0   6.0   6.0   6.0   6.0   6.0\n",
       " 12.0  12.0  12.0  12.0  12.0  12.0  12.0  12.0  12.0  12.0\n",
       " 18.0  18.0  18.0  18.0  18.0  18.0  18.0  18.0  18.0  18.0\n",
       " 24.0  24.0  24.0  24.0  24.0  24.0  24.0  24.0  24.0  24.0\n",
       " 30.0  30.0  30.0  30.0  30.0  30.0  30.0  30.0  30.0  30.0\n",
       " 36.0  36.0  36.0  36.0  36.0  36.0  36.0  36.0  36.0  36.0\n",
       " 42.0  42.0  42.0  42.0  42.0  42.0  42.0  42.0  42.0  42.0\n",
       " 48.0  48.0  48.0  48.0  48.0  48.0  48.0  48.0  48.0  48.0\n",
       " 54.0  54.0  54.0  54.0  54.0  54.0  54.0  54.0  54.0  54.0\n",
       " 60.0  60.0  60.0  60.0  60.0  60.0  60.0  60.0  60.0  60.0"
      ]
     },
     "execution_count": 26,
     "metadata": {},
     "output_type": "execute_result"
    }
   ],
   "source": [
    "h = 1.0\n",
    "[6*i*h for i in 1:10, j in 1:10]"
   ]
  },
  {
   "cell_type": "code",
   "execution_count": null,
   "id": "1557a70c-1481-45d4-821a-87eb18e7b865",
   "metadata": {},
   "outputs": [],
   "source": []
  }
 ],
 "metadata": {
  "kernelspec": {
   "display_name": "Julia 1.8.2",
   "language": "julia",
   "name": "julia-1.8"
  },
  "language_info": {
   "file_extension": ".jl",
   "mimetype": "application/julia",
   "name": "julia",
   "version": "1.8.2"
  }
 },
 "nbformat": 4,
 "nbformat_minor": 5
}
