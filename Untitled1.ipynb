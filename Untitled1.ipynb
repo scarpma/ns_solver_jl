{
 "cells": [
  {
   "cell_type": "code",
   "execution_count": null,
   "id": "4374826f-a691-41d6-b929-bad587ca1ea4",
   "metadata": {},
   "outputs": [],
   "source": [
    "function timeScheme!(u1, u2, u3, uo1, uo2, uo3, p)\n",
    "    \n",
    "    nonLinear1!()\n",
    "    nonLinear2!()\n",
    "    nonLinear3!()\n",
    "    \n",
    "    buildRHS1!()\n",
    "    buildRHS2!()\n",
    "    buildRHS3!()\n",
    "    \n",
    "    invTriDiag!()\n",
    "    invTriDiag!()\n",
    "    invTriDiag!()\n",
    "    \n",
    "    uo1 = \n",
    "    \n",
    "end"
   ]
  },
  {
   "cell_type": "code",
   "execution_count": null,
   "id": "1557a70c-1481-45d4-821a-87eb18e7b865",
   "metadata": {},
   "outputs": [],
   "source": [
    "function nonLinear1!(h1, u1, u2, u3, uo1, uo2, uo3, p)\n",
    "    # compute non linear term at time n (u1 u2 u3 and p)\n",
    "    # for momentum equation u1\n",
    "    \n",
    "    \n",
    "    \n",
    "end"
   ]
  },
  {
   "cell_type": "code",
   "execution_count": null,
   "id": "b12e57ed-e35f-4857-ad65-2cdcd482c00a",
   "metadata": {},
   "outputs": [],
   "source": []
  }
 ],
 "metadata": {
  "kernelspec": {
   "display_name": "Julia 1.8.2",
   "language": "julia",
   "name": "julia-1.8"
  },
  "language_info": {
   "file_extension": ".jl",
   "mimetype": "application/julia",
   "name": "julia",
   "version": "1.8.2"
  }
 },
 "nbformat": 4,
 "nbformat_minor": 5
}
