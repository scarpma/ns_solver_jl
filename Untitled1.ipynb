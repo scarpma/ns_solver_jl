{
 "cells": [
  {
   "cell_type": "code",
   "execution_count": 1,
   "id": "195a533e-aafc-4ba9-89e1-7c5d143b11d2",
   "metadata": {},
   "outputs": [],
   "source": [
    "#const T = Float64\n",
    "\n",
    "struct Field2D\n",
    "    arr\n",
    "    h::Float64\n",
    "    n1::Int64\n",
    "    n2::Int64\n",
    "    function Field2D(T, h, (n1,n2))\n",
    "        arr = Array{T}(undef, (n1,n2))\n",
    "        new(arr, h, n1, n2)\n",
    "    end\n",
    "end"
   ]
  },
  {
   "cell_type": "code",
   "execution_count": 2,
   "id": "f0e2244d-da07-4251-98e5-dcccbdde9eee",
   "metadata": {},
   "outputs": [
    {
     "data": {
      "text/plain": [
       "Field2D"
      ]
     },
     "execution_count": 2,
     "metadata": {},
     "output_type": "execute_result"
    }
   ],
   "source": [
    "a = Field2D(Float64, 1.0, (300,300));\n",
    "typeof(a)"
   ]
  },
  {
   "cell_type": "code",
   "execution_count": 1,
   "id": "7aad18d9-6c27-4430-8d5b-e158c50a8c38",
   "metadata": {},
   "outputs": [],
   "source": [
    "#const T = Float64\n",
    "\n",
    "struct Field2D_v2{T}\n",
    "    h::Float64\n",
    "    arr::Array{T,2}\n",
    "    #function Field2D(T, h, (n1,n2))\n",
    "    #    arr = Array{T}(undef, (n1,n2))\n",
    "    #    new(arr, h, n1, n2)\n",
    "    #end\n",
    "end"
   ]
  },
  {
   "cell_type": "code",
   "execution_count": 3,
   "id": "0d56e8f2-2a9d-4271-927d-992e710b7420",
   "metadata": {},
   "outputs": [
    {
     "data": {
      "text/plain": [
       "Field2D_v2{Float64}"
      ]
     },
     "execution_count": 3,
     "metadata": {},
     "output_type": "execute_result"
    }
   ],
   "source": [
    "a = Field2D_v2{Float64}"
   ]
  },
  {
   "cell_type": "code",
   "execution_count": 6,
   "id": "9ffd14d4-a068-40c3-bdff-0484997c8075",
   "metadata": {},
   "outputs": [
    {
     "ename": "LoadError",
     "evalue": "type DataType has no field h",
     "output_type": "error",
     "traceback": [
      "type DataType has no field h",
      "",
      "Stacktrace:",
      " [1] getproperty(x::Type, f::Symbol)",
      "   @ Base ./Base.jl:33",
      " [2] top-level scope",
      "   @ In[6]:1",
      " [3] eval",
      "   @ ./boot.jl:368 [inlined]",
      " [4] include_string(mapexpr::typeof(REPL.softscope), mod::Module, code::String, filename::String)",
      "   @ Base ./loading.jl:1428"
     ]
    }
   ],
   "source": [
    "a.h"
   ]
  },
  {
   "cell_type": "code",
   "execution_count": 10,
   "id": "c4ec3133-ae49-4b13-8028-ba8302399cdd",
   "metadata": {},
   "outputs": [
    {
     "data": {
      "text/plain": [
       "Any[]"
      ]
     },
     "execution_count": 10,
     "metadata": {},
     "output_type": "execute_result"
    }
   ],
   "source": [
    "a = []"
   ]
  },
  {
   "cell_type": "code",
   "execution_count": 15,
   "id": "f8521427-4f7e-4c0a-9387-eca60c773bba",
   "metadata": {},
   "outputs": [
    {
     "ename": "LoadError",
     "evalue": "type Array has no field push_back",
     "output_type": "error",
     "traceback": [
      "type Array has no field push_back",
      "",
      "Stacktrace:",
      " [1] getproperty(x::Vector{Any}, f::Symbol)",
      "   @ Base ./Base.jl:38",
      " [2] top-level scope",
      "   @ In[15]:1",
      " [3] eval",
      "   @ ./boot.jl:368 [inlined]",
      " [4] include_string(mapexpr::typeof(REPL.softscope), mod::Module, code::String, filename::String)",
      "   @ Base ./loading.jl:1428"
     ]
    }
   ],
   "source": [
    "a.push_back(0)"
   ]
  },
  {
   "cell_type": "code",
   "execution_count": 23,
   "id": "76df72b1-e605-4e33-9181-8a9365a31133",
   "metadata": {},
   "outputs": [
    {
     "data": {
      "text/plain": [
       "12×3 Matrix{Int64}:\n",
       "   1    1    1\n",
       "   4    4    4\n",
       "   9    9    9\n",
       "  16   16   16\n",
       "  25   25   25\n",
       "  36   36   36\n",
       "  49   49   49\n",
       "  64   64   64\n",
       "  81   81   81\n",
       " 100  100  100\n",
       " 121  121  121\n",
       " 144  144  144"
      ]
     },
     "execution_count": 23,
     "metadata": {},
     "output_type": "execute_result"
    }
   ],
   "source": [
    "[i^2 for i in 1:12, j in 1:3]"
   ]
  },
  {
   "cell_type": "code",
   "execution_count": 26,
   "id": "feb6ba62-beeb-46d5-a121-719010de7f6c",
   "metadata": {},
   "outputs": [
    {
     "data": {
      "text/plain": [
       "10×10 Matrix{Float64}:\n",
       "  6.0   6.0   6.0   6.0   6.0   6.0   6.0   6.0   6.0   6.0\n",
       " 12.0  12.0  12.0  12.0  12.0  12.0  12.0  12.0  12.0  12.0\n",
       " 18.0  18.0  18.0  18.0  18.0  18.0  18.0  18.0  18.0  18.0\n",
       " 24.0  24.0  24.0  24.0  24.0  24.0  24.0  24.0  24.0  24.0\n",
       " 30.0  30.0  30.0  30.0  30.0  30.0  30.0  30.0  30.0  30.0\n",
       " 36.0  36.0  36.0  36.0  36.0  36.0  36.0  36.0  36.0  36.0\n",
       " 42.0  42.0  42.0  42.0  42.0  42.0  42.0  42.0  42.0  42.0\n",
       " 48.0  48.0  48.0  48.0  48.0  48.0  48.0  48.0  48.0  48.0\n",
       " 54.0  54.0  54.0  54.0  54.0  54.0  54.0  54.0  54.0  54.0\n",
       " 60.0  60.0  60.0  60.0  60.0  60.0  60.0  60.0  60.0  60.0"
      ]
     },
     "execution_count": 26,
     "metadata": {},
     "output_type": "execute_result"
    }
   ],
   "source": [
    "h = 1.0\n",
    "[6*i*h for i in 1:10, j in 1:10]"
   ]
  },
  {
   "cell_type": "code",
   "execution_count": null,
   "id": "1557a70c-1481-45d4-821a-87eb18e7b865",
   "metadata": {},
   "outputs": [],
   "source": []
  },
  {
   "cell_type": "code",
   "execution_count": null,
   "id": "0acaebb2-6705-452f-bbed-099bc8bb5245",
   "metadata": {},
   "outputs": [],
   "source": []
  },
  {
   "cell_type": "code",
   "execution_count": null,
   "id": "f14e8190-e5b4-4d3c-afa1-6ed8f37c8116",
   "metadata": {},
   "outputs": [],
   "source": []
  },
  {
   "cell_type": "code",
   "execution_count": 56,
   "id": "2f2c0dfa-8a72-4bec-939d-938ecb2701df",
   "metadata": {},
   "outputs": [
    {
     "data": {
      "text/plain": [
       "main (generic function with 1 method)"
      ]
     },
     "execution_count": 56,
     "metadata": {},
     "output_type": "execute_result"
    }
   ],
   "source": [
    "using WriteVTK\n",
    "using Printf\n",
    "\n",
    "function writeSurface(filename, cooOfVert, vertOfTria, fields...)\n",
    "    if vertOfTria == nothing\n",
    "        cells = [MeshCell(VTKCellTypes.VTK_VERTEX, (i, )) for i = 1:size(cooOfVert,2)]\n",
    "    else\n",
    "        cells = [MeshCell(VTKCellTypes.VTK_TRIANGLE, \n",
    "                    (vertOfTria[1, i], vertOfTria[2, i], vertOfTria[3, i]))\n",
    "                    for i = 1:size(vertOfTria,2)\n",
    "                ]\n",
    "    end\n",
    "        mesh = vtk_grid(filename, cooOfVert[1,:], cooOfVert[2,:], cooOfVert[3,:], cells)\n",
    "    if size(fields,1) > 0\n",
    "        for i in eachindex(fields)\n",
    "            mesh[@sprintf(\"f%2d\",i)] = fields[i]\n",
    "        end\n",
    "    end\n",
    "    vtk_save(mesh)\n",
    "    return\n",
    "end\n",
    "\n",
    "function read_gts_plus(filename, T)\n",
    "    coords, vertOfTria, vertOfEdge, edgeOfTria = read_gts(filename, T)\n",
    "    nNodes = size(coords, 2)\n",
    "    nEdges = size(vertOfEdge, 2)\n",
    "    nTria = size(vertOfTria, 2)\n",
    "    \n",
    "    nEdgeVert = zeros(Int64, (nNodes))\n",
    "    midPointEdge = zeros(T, (3, nEdges))\n",
    "    midPointEdge = zeros(T, (3, nEdges))\n",
    "    dirEdge = zeros(T, (3, nEdges))\n",
    "    lenEdge = zeros(T, nEdges)\n",
    "    for i=1:nEdges\n",
    "        v1, v2 = vertOfEdge[:,i]\n",
    "        nEdgeVert[v1] += 1\n",
    "        nEdgeVert[v2] += 1\n",
    "        midPointEdge[:,i] .= 0.5.*(coords[:,v1] .+ coords[:,v2])\n",
    "        dirEdge[:,i] .= (coords[:,v1] .- coords[:,v2])\n",
    "        lenEdge[i] = sqrt(sum(dirEdge[:,i].^2))\n",
    "        dirEdge[:,i] .= dirEdge[:,i] ./ lenEdge[i]\n",
    "    end\n",
    "    \n",
    "    maxNEdgeVert = maximum(nEdgeVert)\n",
    "    vertOfVert = zeros(Int64, (maxNEdgeVert, nNodes))\n",
    "    edgeOfVert = zeros(Int64, (maxNEdgeVert, nNodes))\n",
    "    nEdgeVert .= 0\n",
    "    for i=1:nEdges\n",
    "        v1, v2 = vertOfEdge[:,i]\n",
    "        nEdgeVert[v1] += 1\n",
    "        nEdgeVert[v2] += 1\n",
    "        vertOfVert[nEdgeVert[v1], v1] = v2\n",
    "        vertOfVert[nEdgeVert[v2], v2] = v1\n",
    "        edgeOfVert[nEdgeVert[v1], v1] = i \n",
    "        edgeOfVert[nEdgeVert[v2], v2] = i\n",
    "    end\n",
    "    return coords, vertOfTria, vertOfEdge, vertOfVert, edgeOfTria, nEdgeVert, midPointEdge, lenEdge, dirEdge\n",
    "end\n",
    "\n",
    "function read_gts(filename, T)\n",
    "    \n",
    "    lines = readlines(filename)\n",
    "    nNodes, nEdges, nTria = parse.(Int64, split(lines[1], \" \"))\n",
    "    coords = reshape(parse.(T, split(join(lines[2:nNodes+1], \" \"), \" \")), (3,nNodes))\n",
    "    vertOfEdge = reshape(parse.(Int64, split(join(lines[nNodes+2:nNodes+2+nEdges-1], \" \"), \" \")), (2,nEdges))\n",
    "    edgeOfTria = reshape(parse.(Int64, split(join(lines[nNodes+2+nEdges:end], \" \"), \" \")), (3,nTria))\n",
    "\n",
    "    vertOfTria = zeros(Int64, (3,nTria))\n",
    "    for i=1:nTria\n",
    "        e1, e2, e3 = edgeOfTria[:,i] # e3 is not used\n",
    "        if vertOfEdge[2,e1] == vertOfEdge[1,e2]      #-----#-----#-----#\n",
    "           v1 = vertOfEdge[1,e1] #                   1 e1  21 e2 2? e3 ?\n",
    "           v2 = vertOfEdge[2,e1] \n",
    "           v3 = vertOfEdge[2,e2]\n",
    "        elseif vertOfEdge[2,e1] == vertOfEdge[2,e2]  #-----#-----#-----#\n",
    "           v1 = vertOfEdge[1,e1] #                   1 e1  22 e2 1? e3 ? \n",
    "           v2 = vertOfEdge[2,e1] \n",
    "           v3 = vertOfEdge[1,e2]\n",
    "        elseif vertOfEdge[1,e1] == vertOfEdge[1,e2]  #-----#-----#-----#\n",
    "           v1 = vertOfEdge[2,e1] #                   2 e1  11 e2 2? e3 ?\n",
    "           v2 = vertOfEdge[1,e1] \n",
    "           v3 = vertOfEdge[2,e2]\n",
    "        else                                         #-----#-----#-----#\n",
    "           v1 = vertOfEdge[2,e1] #                   2 e1  12 e2 1? e3 ?\n",
    "           v2 = vertOfEdge[1,e1] \n",
    "           v3 = vertOfEdge[1,e2]\n",
    "        end\n",
    "        vertOfTria[:,i] .= v1, v2, v3\n",
    "    end\n",
    "    return coords, vertOfTria, vertOfEdge, edgeOfTria\n",
    "end\n",
    "\n",
    "function main()\n",
    "    coords, vertOfTria, vertOfEdge, vertOfVert,\n",
    "    edgeOfTria, nEdgeVert, midPointEdge, lenEdge,\n",
    "    dirEdge = read_gts_plus(\"./aorta1.gts\", Float32);\n",
    "    coords, vertOfTria, = read_gts(\"./aorta1.gts\", Float32);\n",
    "    writeSurface(\"prova\", coords, vertOfTria, nEdgeVert)\n",
    "    writeSurface(\"midPoints\", midPointEdge, nothing, dirEdge, lenEdge)\n",
    "end"
   ]
  },
  {
   "cell_type": "code",
   "execution_count": 55,
   "id": "71f56e96-fee3-466b-b180-49d8403d39e2",
   "metadata": {},
   "outputs": [],
   "source": [
    "main()"
   ]
  },
  {
   "cell_type": "code",
   "execution_count": 53,
   "id": "918064ba-06c3-4b02-9d57-33057d2c28aa",
   "metadata": {},
   "outputs": [
    {
     "data": {
      "text/plain": [
       "9-element Vector{Int64}:\n",
       "  98\n",
       "  99\n",
       " 101\n",
       " 102\n",
       " 103\n",
       "   0\n",
       "   0\n",
       "   0\n",
       "   0"
      ]
     },
     "execution_count": 53,
     "metadata": {},
     "output_type": "execute_result"
    }
   ],
   "source": [
    "vertOfVert[:,100]"
   ]
  },
  {
   "cell_type": "code",
   "execution_count": null,
   "id": "f74613b4-8606-40aa-b603-bedfdaa51f6e",
   "metadata": {},
   "outputs": [],
   "source": []
  }
 ],
 "metadata": {
  "kernelspec": {
   "display_name": "Julia 1.8.2",
   "language": "julia",
   "name": "julia-1.8"
  },
  "language_info": {
   "file_extension": ".jl",
   "mimetype": "application/julia",
   "name": "julia",
   "version": "1.8.2"
  }
 },
 "nbformat": 4,
 "nbformat_minor": 5
}
