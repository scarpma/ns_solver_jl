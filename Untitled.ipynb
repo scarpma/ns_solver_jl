{
 "cells": [
  {
   "cell_type": "code",
   "execution_count": 4,
   "id": "eccc6554-ba4a-4d78-933c-5778e82aed60",
   "metadata": {},
   "outputs": [],
   "source": [
    "using BandedMatrices # BandedMatrix\n",
    "using BlockBandedMatrices # Fill\n",
    "using LazyArrays # Kron\n",
    "using LinearAlgebra # I\n",
    "\n",
    "function laplacian_operator(n)\n",
    "    # 1d matrix for second order derivative\n",
    "    D² = BandedMatrix(0 => Fill(-2,n), 1 => Fill(1,n-1), -1 => Fill(1,n-1))\n",
    "    # 2d matrix for ∂ₓₓ\n",
    "    D_xx = BandedBlockBandedMatrix(Kron(D², Eye(n)))\n",
    "    # for yy\n",
    "    D_yy = BandedBlockBandedMatrix(Kron(Eye(n), D²))\n",
    "    # laplacian\n",
    "    Δ = D_xx + D_yy\n",
    "    return Δ\n",
    "end\n",
    "\n",
    "function CNO(n, dt, Re)\n",
    "    # Crank-Nicholson Operator in Matrix form\n",
    "    Δ = @inline laplacian_operator(n)\n",
    "    return I - (dt/(2*Re))*Δ\n",
    "end"
   ]
  },
  {
   "cell_type": "code",
   "execution_count": 5,
   "id": "570ba6f3-3526-4ef6-9dad-e5d9734c2f11",
   "metadata": {},
   "outputs": [
    {
     "data": {
      "text/plain": [
       "1×1-blocked 400×400 BandedBlockBandedMatrix{Float64, BlockArrays.PseudoBlockMatrix{Float64, Matrix{Float64}, Tuple{BlockArrays.BlockedUnitRange{StepRange{Int64, Int64}}, Base.OneTo{Int64}}}, Base.OneTo{Int64}}:\n",
       "  1.02   -0.005   0.0     0.0     0.0    …   0.0     0.0     0.0     0.0\n",
       " -0.005   1.02   -0.005   0.0     0.0        0.0     0.0     0.0     0.0\n",
       "  0.0    -0.005   1.02   -0.005   0.0        0.0     0.0     0.0     0.0\n",
       "  0.0     0.0    -0.005   1.02   -0.005      0.0     0.0     0.0     0.0\n",
       "  0.0     0.0     0.0    -0.005   1.02       0.0     0.0     0.0     0.0\n",
       "  0.0     0.0     0.0     0.0    -0.005  …   0.0     0.0     0.0     0.0\n",
       "  0.0     0.0     0.0     0.0     0.0        0.0     0.0     0.0     0.0\n",
       "  0.0     0.0     0.0     0.0     0.0        0.0     0.0     0.0     0.0\n",
       "  0.0     0.0     0.0     0.0     0.0        0.0     0.0     0.0     0.0\n",
       "  0.0     0.0     0.0     0.0     0.0        0.0     0.0     0.0     0.0\n",
       "  0.0     0.0     0.0     0.0     0.0    …   0.0     0.0     0.0     0.0\n",
       "  0.0     0.0     0.0     0.0     0.0        0.0     0.0     0.0     0.0\n",
       "  0.0     0.0     0.0     0.0     0.0        0.0     0.0     0.0     0.0\n",
       "  ⋮                                      ⋱                          \n",
       "  0.0     0.0     0.0     0.0     0.0        0.0     0.0     0.0     0.0\n",
       "  0.0     0.0     0.0     0.0     0.0        0.0     0.0     0.0     0.0\n",
       "  0.0     0.0     0.0     0.0     0.0    …   0.0     0.0     0.0     0.0\n",
       "  0.0     0.0     0.0     0.0     0.0        0.0     0.0     0.0     0.0\n",
       "  0.0     0.0     0.0     0.0     0.0        0.0     0.0     0.0     0.0\n",
       "  0.0     0.0     0.0     0.0     0.0        0.0     0.0     0.0     0.0\n",
       "  0.0     0.0     0.0     0.0     0.0        0.0     0.0     0.0     0.0\n",
       "  0.0     0.0     0.0     0.0     0.0    …  -0.005   0.0     0.0     0.0\n",
       "  0.0     0.0     0.0     0.0     0.0        1.02   -0.005   0.0     0.0\n",
       "  0.0     0.0     0.0     0.0     0.0       -0.005   1.02   -0.005   0.0\n",
       "  0.0     0.0     0.0     0.0     0.0        0.0    -0.005   1.02   -0.005\n",
       "  0.0     0.0     0.0     0.0     0.0        0.0     0.0    -0.005   1.02"
      ]
     },
     "execution_count": 5,
     "metadata": {},
     "output_type": "execute_result"
    }
   ],
   "source": [
    "Re = 100.\n",
    "dt = 1.0\n",
    "n = 20\n",
    "CNO(n, dt, Re)"
   ]
  },
  {
   "cell_type": "code",
   "execution_count": null,
   "id": "c684febd-eac1-44a8-86e9-255f822e5794",
   "metadata": {},
   "outputs": [],
   "source": []
  }
 ],
 "metadata": {
  "kernelspec": {
   "display_name": "Julia 1.8.2",
   "language": "julia",
   "name": "julia-1.8"
  },
  "language_info": {
   "file_extension": ".jl",
   "mimetype": "application/julia",
   "name": "julia",
   "version": "1.8.2"
  }
 },
 "nbformat": 4,
 "nbformat_minor": 5
}
