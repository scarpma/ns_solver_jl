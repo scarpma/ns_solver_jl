{
 "cells": [
  {
   "cell_type": "code",
   "execution_count": 4,
   "id": "eccc6554-ba4a-4d78-933c-5778e82aed60",
   "metadata": {},
   "outputs": [],
   "source": [
    "using BandedMatrices # BandedMatrix\n",
    "using BlockBandedMatrices # Fill\n",
    "using LazyArrays # Kron\n",
    "using LinearAlgebra # I\n",
    "\n",
    "function laplacian_operator(n)\n",
    "    # 1d matrix for second order derivative\n",
    "    D² = BandedMatrix(0 => Fill(-2,n), 1 => Fill(1,n-1), -1 => Fill(1,n-1))\n",
    "    # 2d matrix for ∂ₓₓ\n",
    "    D_xx = BandedBlockBandedMatrix(Kron(D², Eye(n)))\n",
    "    # for yy\n",
    "    D_yy = BandedBlockBandedMatrix(Kron(Eye(n), D²))\n",
    "    # laplacian\n",
    "    Δ = D_xx + D_yy\n",
    "    return Δ\n",
    "end\n",
    "\n",
    "function CNO(n, dt, Re)\n",
    "    # Crank-Nicholson Operator in Matrix form\n",
    "    Δ = @inline laplacian_operator(n)\n",
    "    return I - (dt/(2*Re))*Δ\n",
    "end"
   ]
  },
  {
   "cell_type": "code",
   "execution_count": 5,
   "id": "570ba6f3-3526-4ef6-9dad-e5d9734c2f11",
   "metadata": {},
   "outputs": [
    {
     "data": {
      "text/plain": [
       "1×1-blocked 400×400 BandedBlockBandedMatrix{Float64, BlockArrays.PseudoBlockMatrix{Float64, Matrix{Float64}, Tuple{BlockArrays.BlockedUnitRange{StepRange{Int64, Int64}}, Base.OneTo{Int64}}}, Base.OneTo{Int64}}:\n",
       "  1.02   -0.005   0.0     0.0     0.0    …   0.0     0.0     0.0     0.0\n",
       " -0.005   1.02   -0.005   0.0     0.0        0.0     0.0     0.0     0.0\n",
       "  0.0    -0.005   1.02   -0.005   0.0        0.0     0.0     0.0     0.0\n",
       "  0.0     0.0    -0.005   1.02   -0.005      0.0     0.0     0.0     0.0\n",
       "  0.0     0.0     0.0    -0.005   1.02       0.0     0.0     0.0     0.0\n",
       "  0.0     0.0     0.0     0.0    -0.005  …   0.0     0.0     0.0     0.0\n",
       "  0.0     0.0     0.0     0.0     0.0        0.0     0.0     0.0     0.0\n",
       "  0.0     0.0     0.0     0.0     0.0        0.0     0.0     0.0     0.0\n",
       "  0.0     0.0     0.0     0.0     0.0        0.0     0.0     0.0     0.0\n",
       "  0.0     0.0     0.0     0.0     0.0        0.0     0.0     0.0     0.0\n",
       "  0.0     0.0     0.0     0.0     0.0    …   0.0     0.0     0.0     0.0\n",
       "  0.0     0.0     0.0     0.0     0.0        0.0     0.0     0.0     0.0\n",
       "  0.0     0.0     0.0     0.0     0.0        0.0     0.0     0.0     0.0\n",
       "  ⋮                                      ⋱                          \n",
       "  0.0     0.0     0.0     0.0     0.0        0.0     0.0     0.0     0.0\n",
       "  0.0     0.0     0.0     0.0     0.0        0.0     0.0     0.0     0.0\n",
       "  0.0     0.0     0.0     0.0     0.0    …   0.0     0.0     0.0     0.0\n",
       "  0.0     0.0     0.0     0.0     0.0        0.0     0.0     0.0     0.0\n",
       "  0.0     0.0     0.0     0.0     0.0        0.0     0.0     0.0     0.0\n",
       "  0.0     0.0     0.0     0.0     0.0        0.0     0.0     0.0     0.0\n",
       "  0.0     0.0     0.0     0.0     0.0        0.0     0.0     0.0     0.0\n",
       "  0.0     0.0     0.0     0.0     0.0    …  -0.005   0.0     0.0     0.0\n",
       "  0.0     0.0     0.0     0.0     0.0        1.02   -0.005   0.0     0.0\n",
       "  0.0     0.0     0.0     0.0     0.0       -0.005   1.02   -0.005   0.0\n",
       "  0.0     0.0     0.0     0.0     0.0        0.0    -0.005   1.02   -0.005\n",
       "  0.0     0.0     0.0     0.0     0.0        0.0     0.0    -0.005   1.02"
      ]
     },
     "execution_count": 5,
     "metadata": {},
     "output_type": "execute_result"
    }
   ],
   "source": [
    "Re = 100.\n",
    "dt = 1.0\n",
    "n = 20\n",
    "CNO(n, dt, Re)"
   ]
  },
  {
   "cell_type": "code",
   "execution_count": 24,
   "id": "c684febd-eac1-44a8-86e9-255f822e5794",
   "metadata": {},
   "outputs": [
    {
     "data": {
      "text/plain": [
       "6×6 Matrix{Float32}:\n",
       " 2.0f-44  3.0f-45     1.8f-44  2.82229f33  4.0f-45     2.82235f33\n",
       " 0.0      0.0         0.0      4.5834f-41  0.0         4.5834f-41\n",
       " 6.0f-45  1.0f-45     6.0f-45  6.0f-45     2.82233f33  6.0f-45\n",
       " 0.0      0.0         0.0      0.0         4.5834f-41  0.0\n",
       " 3.6f-43  2.82219f33  0.0      2.82231f33  6.0f-45     2.82237f33\n",
       " 0.0      4.5834f-41  0.0      4.5834f-41  0.0         4.5834f-41"
      ]
     },
     "execution_count": 24,
     "metadata": {},
     "output_type": "execute_result"
    }
   ],
   "source": [
    "a = Array{Float32}(undef, (6,6))"
   ]
  },
  {
   "cell_type": "code",
   "execution_count": 25,
   "id": "39b8c651-1c12-455c-bcfe-d6544345c555",
   "metadata": {},
   "outputs": [
    {
     "data": {
      "text/plain": [
       "Vector{Float32}\u001b[90m (alias for \u001b[39m\u001b[90mArray{Float32, 1}\u001b[39m\u001b[90m)\u001b[39m"
      ]
     },
     "execution_count": 25,
     "metadata": {},
     "output_type": "execute_result"
    }
   ],
   "source": [
    "typeof(a[2:3,2])"
   ]
  },
  {
   "cell_type": "code",
   "execution_count": 26,
   "id": "0a480a2b-fc48-4f40-8cda-a9d3889c5444",
   "metadata": {},
   "outputs": [
    {
     "data": {
      "text/plain": [
       "(2,)"
      ]
     },
     "execution_count": 26,
     "metadata": {},
     "output_type": "execute_result"
    }
   ],
   "source": [
    "size(a[2:3,2])"
   ]
  },
  {
   "cell_type": "code",
   "execution_count": 21,
   "id": "6ccc5b87-7d3f-4d6c-af8b-02fa727b50f0",
   "metadata": {},
   "outputs": [
    {
     "data": {
      "text/plain": [
       "2×2 Matrix{Float32}:\n",
       " 0.737725  0.610721\n",
       " 0.584816  0.719634"
      ]
     },
     "execution_count": 21,
     "metadata": {},
     "output_type": "execute_result"
    }
   ],
   "source": [
    "rand(Float32, (2,2))"
   ]
  },
  {
   "cell_type": "code",
   "execution_count": 27,
   "id": "7a76b700-987a-4d31-aaa5-90e10e3ed4ff",
   "metadata": {},
   "outputs": [
    {
     "data": {
      "text/plain": [
       "2×2 Matrix{Float64}:\n",
       " 0.0  0.0\n",
       " 0.0  0.0"
      ]
     },
     "execution_count": 27,
     "metadata": {},
     "output_type": "execute_result"
    }
   ],
   "source": [
    "u = zeros(Float64, (2,2))"
   ]
  },
  {
   "cell_type": "code",
   "execution_count": 36,
   "id": "0d269b75-3bb8-4bc1-b67e-e337d4b441bb",
   "metadata": {},
   "outputs": [
    {
     "data": {
      "text/plain": [
       "2-element view(::Matrix{Float64}, 1, :) with eltype Float64:\n",
       " 0.0\n",
       " 0.0"
      ]
     },
     "execution_count": 36,
     "metadata": {},
     "output_type": "execute_result"
    }
   ],
   "source": [
    "v = @view u[1,:]"
   ]
  },
  {
   "cell_type": "code",
   "execution_count": 37,
   "id": "8b389263-2304-49b8-8e87-ccc3f530196b",
   "metadata": {},
   "outputs": [
    {
     "data": {
      "text/plain": [
       "1"
      ]
     },
     "execution_count": 37,
     "metadata": {},
     "output_type": "execute_result"
    }
   ],
   "source": [
    "v[1] = 1"
   ]
  },
  {
   "cell_type": "code",
   "execution_count": 32,
   "id": "d5b98956-77f4-43c6-a8ba-59c243d80c3f",
   "metadata": {},
   "outputs": [
    {
     "data": {
      "text/plain": [
       "Vector{Float64}\u001b[90m (alias for \u001b[39m\u001b[90mArray{Float64, 1}\u001b[39m\u001b[90m)\u001b[39m"
      ]
     },
     "execution_count": 32,
     "metadata": {},
     "output_type": "execute_result"
    }
   ],
   "source": [
    "typeof(v)"
   ]
  },
  {
   "cell_type": "code",
   "execution_count": 38,
   "id": "ebcbae52-9d81-428a-be5f-41d30d755123",
   "metadata": {},
   "outputs": [
    {
     "data": {
      "text/plain": [
       "([1.0, 0.0], [1.0 0.0; 0.0 0.0])"
      ]
     },
     "execution_count": 38,
     "metadata": {},
     "output_type": "execute_result"
    }
   ],
   "source": [
    "v,u"
   ]
  },
  {
   "cell_type": "code",
   "execution_count": 64,
   "id": "ec06779a-3d7e-4357-83aa-4c37ab001043",
   "metadata": {},
   "outputs": [
    {
     "name": "stdout",
     "output_type": "stream",
     "text": [
      "  12.433 ns (0 allocations: 0 bytes)\n",
      "[1.0 0.0 0.0; 0.0 0.0 0.0; 0.0 0.0 0.0]  232.305 ns (2 allocations: 96 bytes)\n",
      "[0.0 0.0 0.0; 0.0 0.0 0.0; 0.0 0.0 0.0]"
     ]
    }
   ],
   "source": [
    "using BenchmarkTools\n",
    "\n",
    "function f!(v,a)\n",
    "    v[1] = 1\n",
    "end\n",
    "\n",
    "v = zeros(Float64, (3,3))\n",
    "@btime f!(v,1)\n",
    "print(v)\n",
    "\n",
    "v = zeros(Float64, (3,3))\n",
    "@btime f!(v[:,1], 1)\n",
    "print(v)"
   ]
  },
  {
   "cell_type": "code",
   "execution_count": 69,
   "id": "3580c94b-e1d7-4041-b1a2-e2cd5898f532",
   "metadata": {},
   "outputs": [
    {
     "name": "stdout",
     "output_type": "stream",
     "text": [
      "[1.0 0.0 0.0; 0.0 0.0 0.0; 0.0 0.0 0.0]"
     ]
    }
   ],
   "source": [
    "f!(@view(v[1:2,1]), 2)\n",
    "print(v)"
   ]
  },
  {
   "cell_type": "code",
   "execution_count": 8,
   "id": "fad93b5b-3654-4075-bf6f-0708363fbc4d",
   "metadata": {},
   "outputs": [],
   "source": [
    "struct Field2D\n",
    "    arr\n",
    "    h1::AbstractFloat\n",
    "    h2::AbstractFloat\n",
    "    n1::Int64\n",
    "    n2::Int64\n",
    "    function Field2D(arr, (h1, h2))\n",
    "        @assert ndims(arr) == 2\n",
    "        n1 = size(arr,1)\n",
    "        n2 = size(arr,2)\n",
    "        new(arr, h1, h2, n1, n2)\n",
    "    end\n",
    "    function Field2D(T, (h1, h2), (n1,n2))\n",
    "        arr = Array{T}(undef, (n1,n2))\n",
    "        new(arr, h1, h2, n1, n2)\n",
    "    end\n",
    "    function Field2D(T, (h1, h2), (n1,n2), val)\n",
    "        @assert typeof(val) == T\n",
    "        arr = Array{T}(undef, (n1,n2))\n",
    "        fill!(arr, val)\n",
    "        new(arr, h1, h2, n1, n2)\n",
    "    end\n",
    "    Base.iterate(foo::Field2D, state = 1) = state > fieldcount(Field2D) ? nothing : (getfield(foo, state), state + 1)\n",
    "end"
   ]
  },
  {
   "cell_type": "code",
   "execution_count": 9,
   "id": "d8de026f-584e-48d3-82d8-7001840d8a4a",
   "metadata": {},
   "outputs": [
    {
     "data": {
      "text/plain": [
       "Field2D([0.0 0.0; 0.0 0.0], 1.0, 1.0, 2, 2)"
      ]
     },
     "execution_count": 9,
     "metadata": {},
     "output_type": "execute_result"
    }
   ],
   "source": [
    "tmp = zeros(Float64, (2,2))\n",
    "u = Field2D(tmp, (1.0, 1.0))"
   ]
  },
  {
   "cell_type": "code",
   "execution_count": 11,
   "id": "b3fc9bca-f1b6-4b42-b29d-3914c71b3519",
   "metadata": {},
   "outputs": [
    {
     "data": {
      "text/plain": [
       "Field2D([0.0 4.243991582e-314 … 0.0 0.0; 1.07035e-318 0.0 … 0.0 0.0; … ; 3.2593855673017e-311 1.5e-323 … 0.0 0.0; 4.243991582e-314 0.0 … 0.0 0.0], 1.0, 1.0, 100, 100)"
      ]
     },
     "execution_count": 11,
     "metadata": {},
     "output_type": "execute_result"
    }
   ],
   "source": [
    "v = Field2D(Float64, (1.0, 1.0), (100,100))"
   ]
  },
  {
   "cell_type": "code",
   "execution_count": 16,
   "id": "f7c97ec1-76e0-429a-ad0b-f3d965c57cf1",
   "metadata": {},
   "outputs": [
    {
     "data": {
      "text/plain": [
       "ex (generic function with 1 method)"
      ]
     },
     "execution_count": 16,
     "metadata": {},
     "output_type": "execute_result"
    }
   ],
   "source": [
    "function ex((arr, h, n1, n2)::Field2D)\n",
    "     return arr\n",
    "end"
   ]
  },
  {
   "cell_type": "code",
   "execution_count": 13,
   "id": "6b49a7d2-c85b-47e0-a0e8-e826717866be",
   "metadata": {},
   "outputs": [
    {
     "data": {
      "text/plain": [
       "Field2D([0.0 0.0; 0.0 0.0], 1.0, 1.0, 2, 2)"
      ]
     },
     "execution_count": 13,
     "metadata": {},
     "output_type": "execute_result"
    }
   ],
   "source": [
    "arr, h = u"
   ]
  },
  {
   "cell_type": "code",
   "execution_count": 14,
   "id": "394b24ff-265a-4773-ac00-6114a7b87690",
   "metadata": {},
   "outputs": [
    {
     "data": {
      "text/plain": [
       "2×2 Matrix{Float64}:\n",
       " 0.0  0.0\n",
       " 0.0  0.0"
      ]
     },
     "execution_count": 14,
     "metadata": {},
     "output_type": "execute_result"
    }
   ],
   "source": [
    "arr"
   ]
  },
  {
   "cell_type": "code",
   "execution_count": 19,
   "id": "591ec63c-4877-4a0a-b363-b80d005e6dc0",
   "metadata": {},
   "outputs": [
    {
     "data": {
      "text/plain": [
       "4.0"
      ]
     },
     "execution_count": 19,
     "metadata": {},
     "output_type": "execute_result"
    }
   ],
   "source": [
    "arr[1,1] = 1.0\n",
    "arr[1,2] = 2.0\n",
    "arr[2,1] = 3.0\n",
    "arr[2,2] = 4.0"
   ]
  },
  {
   "cell_type": "code",
   "execution_count": 20,
   "id": "c76f0e73-f2c3-4ac4-8164-8ec88834f50c",
   "metadata": {},
   "outputs": [
    {
     "name": "stdout",
     "output_type": "stream",
     "text": [
      "1.0\n",
      "3.0\n",
      "2.0\n",
      "4.0\n"
     ]
    }
   ],
   "source": [
    "for i in eachindex(arr)\n",
    "    println(arr[i])\n",
    "end"
   ]
  },
  {
   "cell_type": "code",
   "execution_count": null,
   "id": "a55d3018-9c6d-4724-8d6b-ed5cef1a2e07",
   "metadata": {},
   "outputs": [],
   "source": []
  }
 ],
 "metadata": {
  "kernelspec": {
   "display_name": "Julia 1.8.2",
   "language": "julia",
   "name": "julia-1.8"
  },
  "language_info": {
   "file_extension": ".jl",
   "mimetype": "application/julia",
   "name": "julia",
   "version": "1.8.2"
  }
 },
 "nbformat": 4,
 "nbformat_minor": 5
}
